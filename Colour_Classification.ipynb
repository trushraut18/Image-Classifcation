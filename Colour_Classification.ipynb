{
 "cells": [
  {
   "cell_type": "markdown",
   "metadata": {},
   "source": [
    "## Model Type : MultiClass CLassification\n",
    "## Problem Statement :\n",
    "### Given an image as an input and the code is supposed to categorize\n",
    "  ### which RGB colour it matches to.\n",
    "    "
   ]
  },
  {
   "cell_type": "markdown",
   "metadata": {},
   "source": [
    "## Importing all Necessary Libraries"
   ]
  },
  {
   "cell_type": "code",
   "execution_count": 2,
   "metadata": {},
   "outputs": [],
   "source": [
    "import cv2\n",
    "import numpy as np\n",
    "import tensorflow as tf\n",
    "from tensorflow.keras.optimizers import RMSprop\n",
    "from keras.models import Sequential\n",
    "from keras.layers import Conv2D, MaxPooling2D,Flatten,Dense\n",
    "from keras.preprocessing import image\n",
    "from keras.preprocessing.image import ImageDataGenerator\n",
    "from PIL import ImageFile\n",
    "ImageFile.LOAD_TRUNCATED_IMAGES = True"
   ]
  },
  {
   "cell_type": "code",
   "execution_count": 3,
   "metadata": {},
   "outputs": [],
   "source": [
    "CLASS_NAMES = ['Blue', 'Green','Red']"
   ]
  },
  {
   "cell_type": "code",
   "execution_count": 4,
   "metadata": {},
   "outputs": [
    {
     "name": "stdout",
     "output_type": "stream",
     "text": [
      "Found 1200 images belonging to 3 classes.\n",
      "Found 300 images belonging to 3 classes.\n"
     ]
    }
   ],
   "source": [
    "train_datagen = ImageDataGenerator(rescale = 1./255,\n",
    "                                   shear_range = 0.2,\n",
    "                                   zoom_range = 0.2,\n",
    "                                   horizontal_flip = True)\n",
    "\n",
    "test_datagen = ImageDataGenerator(rescale = 1./255)\n",
    "\n",
    "training_set = train_datagen.flow_from_directory(r'Dataset\\train',\n",
    "                                                 target_size = (64, 64),\n",
    "                                                 batch_size = 32,\n",
    "                                                 classes  = CLASS_NAMES ,\n",
    "                                                 class_mode = 'categorical')\n",
    "\n",
    "test_set = test_datagen.flow_from_directory(r'Dataset\\test',\n",
    "                                            target_size = (64, 64),\n",
    "                                            batch_size = 32,\n",
    "                                            classes  = CLASS_NAMES ,\n",
    "                                            class_mode = 'categorical')\n"
   ]
  },
  {
   "cell_type": "markdown",
   "metadata": {},
   "source": [
    "## Build the model"
   ]
  },
  {
   "cell_type": "code",
   "execution_count": 5,
   "metadata": {},
   "outputs": [],
   "source": [
    "model = tf.keras.models.Sequential([\n",
    "    tf.keras.layers.Conv2D(16, (3,3), activation='relu', input_shape=(64, 64, 3)),\n",
    "    tf.keras.layers.MaxPooling2D(2, 2),\n",
    "    tf.keras.layers.Conv2D(32, (3,3), activation='relu'),\n",
    "    tf.keras.layers.MaxPooling2D(2,2),\n",
    "     tf.keras.layers.Flatten(),\n",
    "    tf.keras.layers.Dense(128, activation='relu'),\n",
    "    tf.keras.layers.Dense(3, activation='softmax')\n",
    "])"
   ]
  },
  {
   "cell_type": "code",
   "execution_count": 6,
   "metadata": {},
   "outputs": [
    {
     "name": "stdout",
     "output_type": "stream",
     "text": [
      "Model: \"sequential\"\n",
      "_________________________________________________________________\n",
      "Layer (type)                 Output Shape              Param #   \n",
      "=================================================================\n",
      "conv2d (Conv2D)              (None, 62, 62, 16)        448       \n",
      "_________________________________________________________________\n",
      "max_pooling2d (MaxPooling2D) (None, 31, 31, 16)        0         \n",
      "_________________________________________________________________\n",
      "conv2d_1 (Conv2D)            (None, 29, 29, 32)        4640      \n",
      "_________________________________________________________________\n",
      "max_pooling2d_1 (MaxPooling2 (None, 14, 14, 32)        0         \n",
      "_________________________________________________________________\n",
      "flatten (Flatten)            (None, 6272)              0         \n",
      "_________________________________________________________________\n",
      "dense (Dense)                (None, 128)               802944    \n",
      "_________________________________________________________________\n",
      "dense_1 (Dense)              (None, 3)                 387       \n",
      "=================================================================\n",
      "Total params: 808,419\n",
      "Trainable params: 808,419\n",
      "Non-trainable params: 0\n",
      "_________________________________________________________________\n"
     ]
    }
   ],
   "source": [
    "model.summary()"
   ]
  },
  {
   "cell_type": "markdown",
   "metadata": {},
   "source": [
    "## Compile"
   ]
  },
  {
   "cell_type": "code",
   "execution_count": 7,
   "metadata": {},
   "outputs": [],
   "source": [
    "opt = RMSprop(lr=0.001)\n",
    "model.compile(loss='categorical_crossentropy',\n",
    "                            optimizer=opt,\n",
    "                            metrics=['accuracy'])\n"
   ]
  },
  {
   "cell_type": "markdown",
   "metadata": {},
   "source": [
    "## Train"
   ]
  },
  {
   "cell_type": "code",
   "execution_count": 8,
   "metadata": {
    "scrolled": true
   },
   "outputs": [
    {
     "name": "stdout",
     "output_type": "stream",
     "text": [
      "Epoch 1/25\n",
      "WARNING:tensorflow:From E:\\anaconda3\\lib\\site-packages\\tensorflow\\python\\ops\\math_grad.py:1250: add_dispatch_support.<locals>.wrapper (from tensorflow.python.ops.array_ops) is deprecated and will be removed in a future version.\n",
      "Instructions for updating:\n",
      "Use tf.where in 2.0, which has the same broadcast rule as np.where\n",
      "1200/1200 [==============================] - 727s 606ms/step - loss: 0.0320 - accuracy: 0.9903\n",
      "Epoch 2/25\n",
      "1200/1200 [==============================] - 916s 763ms/step - loss: 0.0156 - accuracy: 0.9977\n",
      "Epoch 3/25\n",
      "1200/1200 [==============================] - 738s 615ms/step - loss: 0.0088 - accuracy: 0.9991\n",
      "Epoch 4/25\n",
      "1200/1200 [==============================] - 603s 503ms/step - loss: 0.0093 - accuracy: 0.9988\n",
      "Epoch 5/25\n",
      "1200/1200 [==============================] - 664s 554ms/step - loss: 0.0050 - accuracy: 0.9992\n",
      "Epoch 6/25\n",
      "1200/1200 [==============================] - 645s 537ms/step - loss: 0.0099 - accuracy: 0.9989\n",
      "Epoch 7/25\n",
      "1200/1200 [==============================] - 631s 525ms/step - loss: 0.0073 - accuracy: 0.9993\n",
      "Epoch 8/25\n",
      "1200/1200 [==============================] - 637s 531ms/step - loss: 0.0038 - accuracy: 0.9993\n",
      "Epoch 9/25\n",
      "1200/1200 [==============================] - 639s 533ms/step - loss: 0.0018 - accuracy: 0.9997\n",
      "Epoch 10/25\n",
      "1200/1200 [==============================] - 637s 531ms/step - loss: 0.0063 - accuracy: 0.9992\n",
      "Epoch 11/25\n",
      "1200/1200 [==============================] - 622s 518ms/step - loss: 0.0052 - accuracy: 0.9993\n",
      "Epoch 12/25\n",
      "1200/1200 [==============================] - 764s 637ms/step - loss: 0.0039 - accuracy: 0.9996\n",
      "Epoch 13/25\n",
      "1200/1200 [==============================] - 735s 612ms/step - loss: 0.0098 - accuracy: 0.9991\n",
      "Epoch 14/25\n",
      "1200/1200 [==============================] - 628s 523ms/step - loss: 0.0043 - accuracy: 0.9996\n",
      "Epoch 15/25\n",
      "1200/1200 [==============================] - 645s 537ms/step - loss: 0.0092 - accuracy: 0.9990\n",
      "Epoch 16/25\n",
      "1200/1200 [==============================] - 631s 526ms/step - loss: 0.0058 - accuracy: 0.9995\n",
      "Epoch 17/25\n",
      "1200/1200 [==============================] - 594s 495ms/step - loss: 0.0139 - accuracy: 0.9988\n",
      "Epoch 18/25\n",
      "1200/1200 [==============================] - 607s 506ms/step - loss: 0.0102 - accuracy: 0.9991\n",
      "Epoch 19/25\n",
      "1200/1200 [==============================] - 615s 513ms/step - loss: 0.0032 - accuracy: 0.9997\n",
      "Epoch 20/25\n",
      "1200/1200 [==============================] - 617s 514ms/step - loss: 0.0069 - accuracy: 0.9994\n",
      "Epoch 21/25\n",
      "1200/1200 [==============================] - 620s 517ms/step - loss: 0.0132 - accuracy: 0.9990\n",
      "Epoch 22/25\n",
      "1200/1200 [==============================] - 625s 521ms/step - loss: 0.0015 - accuracy: 0.9998\n",
      "Epoch 23/25\n",
      "1200/1200 [==============================] - 630s 525ms/step - loss: 0.0069 - accuracy: 0.9994\n",
      "Epoch 24/25\n",
      "1200/1200 [==============================] - 625s 521ms/step - loss: 0.0038 - accuracy: 0.9995\n",
      "Epoch 25/25\n",
      "1200/1200 [==============================] - 631s 526ms/step - loss: 0.0025 - accuracy: 0.9996\n"
     ]
    },
    {
     "data": {
      "text/plain": [
       "<tensorflow.python.keras.callbacks.History at 0x1dc4a24a988>"
      ]
     },
     "execution_count": 8,
     "metadata": {},
     "output_type": "execute_result"
    }
   ],
   "source": [
    "model.fit_generator(training_set,\n",
    "                                    steps_per_epoch = 1200,\n",
    "                                    epochs = 25,\n",
    "                                    validation_steps = 300)\n",
    "\n"
   ]
  },
  {
   "cell_type": "markdown",
   "metadata": {},
   "source": [
    "## Evaluate"
   ]
  },
  {
   "cell_type": "code",
   "execution_count": 9,
   "metadata": {},
   "outputs": [
    {
     "name": "stdout",
     "output_type": "stream",
     "text": [
      "10/10 [==============================] - 12s 1s/step - loss: 0.2296 - accuracy: 0.9800\n",
      "Loss  :  0.22960772998748097\n",
      "Accuracy  : 0.98\n"
     ]
    }
   ],
   "source": [
    "test_loss, test_accuracy = model.evaluate(test_set, verbose=1)\n",
    "print(\"Loss  : \", test_loss)\n",
    "print(\"Accuracy  :\",test_accuracy)"
   ]
  },
  {
   "cell_type": "markdown",
   "metadata": {},
   "source": [
    "## Test "
   ]
  },
  {
   "cell_type": "code",
   "execution_count": 14,
   "metadata": {},
   "outputs": [],
   "source": [
    "test_image = image.load_img(r'test_images\\test (1).jpg', target_size = (64,64))\n",
    "test_image = np.expand_dims(test_image, axis=0)"
   ]
  },
  {
   "cell_type": "code",
   "execution_count": 15,
   "metadata": {},
   "outputs": [],
   "source": [
    "result = model.predict(test_image)"
   ]
  },
  {
   "cell_type": "code",
   "execution_count": 16,
   "metadata": {},
   "outputs": [
    {
     "name": "stdout",
     "output_type": "stream",
     "text": [
      "Blue\n"
     ]
    }
   ],
   "source": [
    "if result[0][0] == 1:\n",
    "    print(\"Blue\")\n",
    "elif result[0][1] == 1:\n",
    "    print(\"Green\")\n",
    "elif result[0][2] == 1:\n",
    "    print(\"Red\")"
   ]
  },
  {
   "cell_type": "markdown",
   "metadata": {},
   "source": [
    "## Test Cases :"
   ]
  },
  {
   "cell_type": "code",
   "execution_count": 18,
   "metadata": {},
   "outputs": [
    {
     "name": "stdout",
     "output_type": "stream",
     "text": [
      "Blue\n"
     ]
    }
   ],
   "source": [
    "test_image = image.load_img(r'test_images\\test (2).jpg', target_size = (64,64))\n",
    "test_image = np.expand_dims(test_image, axis=0)\n",
    "result = model.predict(test_image)\n",
    "if result[0][0] == 1:\n",
    "    print(\"Blue\")\n",
    "elif result[0][1] == 1:\n",
    "    print(\"Green\")\n",
    "elif result[0][2] == 1:\n",
    "    print(\"Red\")"
   ]
  },
  {
   "cell_type": "code",
   "execution_count": 19,
   "metadata": {},
   "outputs": [
    {
     "name": "stdout",
     "output_type": "stream",
     "text": [
      "Green\n"
     ]
    }
   ],
   "source": [
    "test_image = image.load_img(r'test_images\\test (3).jpg', target_size = (64,64))\n",
    "test_image = np.expand_dims(test_image, axis=0)\n",
    "result = model.predict(test_image)\n",
    "if result[0][0] == 1:\n",
    "    print(\"Blue\")\n",
    "elif result[0][1] == 1:\n",
    "    print(\"Green\")\n",
    "elif result[0][2] == 1:\n",
    "    print(\"Red\")"
   ]
  },
  {
   "cell_type": "code",
   "execution_count": 20,
   "metadata": {},
   "outputs": [
    {
     "name": "stdout",
     "output_type": "stream",
     "text": [
      "Green\n"
     ]
    }
   ],
   "source": [
    "test_image = image.load_img(r'test_images\\test (4).jpg', target_size = (64,64))\n",
    "test_image = np.expand_dims(test_image, axis=0)\n",
    "result = model.predict(test_image)\n",
    "if result[0][0] == 1:\n",
    "    print(\"Blue\")\n",
    "elif result[0][1] == 1:\n",
    "    print(\"Green\")\n",
    "elif result[0][2] == 1:\n",
    "    print(\"Red\")"
   ]
  },
  {
   "cell_type": "code",
   "execution_count": 21,
   "metadata": {},
   "outputs": [
    {
     "name": "stdout",
     "output_type": "stream",
     "text": [
      "Red\n"
     ]
    }
   ],
   "source": [
    "test_image = image.load_img(r'test_images\\test (5).jpg', target_size = (64,64))\n",
    "test_image = np.expand_dims(test_image, axis=0)\n",
    "result = model.predict(test_image)\n",
    "if result[0][0] == 1:\n",
    "    print(\"Blue\")\n",
    "elif result[0][1] == 1:\n",
    "    print(\"Green\")\n",
    "elif result[0][2] == 1:\n",
    "    print(\"Red\")"
   ]
  },
  {
   "cell_type": "code",
   "execution_count": 22,
   "metadata": {},
   "outputs": [
    {
     "name": "stdout",
     "output_type": "stream",
     "text": [
      "Red\n"
     ]
    }
   ],
   "source": [
    "test_image = image.load_img(r'test_images\\test (6).jpg', target_size = (64,64))\n",
    "test_image = np.expand_dims(test_image, axis=0)\n",
    "result = model.predict(test_image)\n",
    "if result[0][0] == 1:\n",
    "    print(\"Blue\")\n",
    "elif result[0][1] == 1:\n",
    "    print(\"Green\")\n",
    "elif result[0][2] == 1:\n",
    "    print(\"Red\")"
   ]
  },
  {
   "cell_type": "markdown",
   "metadata": {},
   "source": [
    "\n",
    "#### Code By : Trushna R. Raut\n",
    "#### Date : 6 June 2020 (updated)\n",
    "    "
   ]
  },
  {
   "cell_type": "code",
   "execution_count": null,
   "metadata": {},
   "outputs": [],
   "source": []
  }
 ],
 "metadata": {
  "kernelspec": {
   "display_name": "Python 3",
   "language": "python",
   "name": "python3"
  },
  "language_info": {
   "codemirror_mode": {
    "name": "ipython",
    "version": 3
   },
   "file_extension": ".py",
   "mimetype": "text/x-python",
   "name": "python",
   "nbconvert_exporter": "python",
   "pygments_lexer": "ipython3",
   "version": "3.7.6"
  }
 },
 "nbformat": 4,
 "nbformat_minor": 4
}
